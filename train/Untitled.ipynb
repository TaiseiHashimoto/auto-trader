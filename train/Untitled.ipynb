{
 "cells": [
  {
   "cell_type": "code",
   "execution_count": 1,
   "id": "f4d90507-97c1-433a-9d0c-0390c856ca75",
   "metadata": {},
   "outputs": [],
   "source": [
    "%load_ext autoreload\n",
    "%autoreload 2"
   ]
  },
  {
   "cell_type": "code",
   "execution_count": 2,
   "id": "794610bd-d300-4210-896e-50198a1dbf45",
   "metadata": {},
   "outputs": [],
   "source": [
    "import numpy as np\n",
    "import pandas as pd\n",
    "import datetime\n",
    "import os\n",
    "import sys\n",
    "import calendar\n",
    "from tqdm.notebook import tqdm\n",
    "from collections import deque\n",
    "import lightgbm as lgb\n",
    "from sklearn.metrics import roc_auc_score\n",
    "import pickle\n",
    "import yaml\n",
    "from dotmap import DotMap\n",
    "import neptune.new as neptune"
   ]
  },
  {
   "cell_type": "code",
   "execution_count": 3,
   "id": "b4e22135-d0d7-4418-a193-187b001e9d91",
   "metadata": {},
   "outputs": [],
   "source": [
    "import utils"
   ]
  },
  {
   "cell_type": "code",
   "execution_count": 4,
   "id": "8701c87a-890d-4c28-b0a8-3d7d2e61fbf8",
   "metadata": {},
   "outputs": [],
   "source": [
    "import sys\n",
    "sys.path.append(\"../common\")\n",
    "import common_utils"
   ]
  },
  {
   "cell_type": "code",
   "execution_count": null,
   "id": "dd25c216-0d2c-4eb0-ab1f-fc6cacb73f99",
   "metadata": {},
   "outputs": [],
   "source": []
  },
  {
   "cell_type": "code",
   "execution_count": 5,
   "id": "90081e98-0fdc-414f-b4c6-29b2d6d3716d",
   "metadata": {},
   "outputs": [],
   "source": [
    "CONFIG_PATH = \"./config.yaml\"\n",
    "with open(CONFIG_PATH, \"r\") as f:\n",
    "    config = DotMap(yaml.safe_load(f), _dynamic=False)"
   ]
  },
  {
   "cell_type": "code",
   "execution_count": 6,
   "id": "0bfd0683-2999-40da-94ab-c3694613c771",
   "metadata": {},
   "outputs": [
    {
     "name": "stdout",
     "output_type": "stream",
     "text": [
      "{'data': {'first': {'month': 11, 'year': 2020},\n",
      "          'last': {'month': 12, 'year': 2020},\n",
      "          'symbol': 'usdjpy'},\n",
      " 'feature': {'freqs': ['1min', '5min', '15min', '1h', '4h'],\n",
      "             'lag_max': 10,\n",
      "             'sma': {'timing': 'close', 'window_size': 10},\n",
      "             'timings': ['high', 'low', 'close']},\n",
      " 'gcp': {'bucket_name': 'preprocessed-thashimoto',\n",
      "         'project_id': 'auto-trader-359210',\n",
      "         'secret_id': 'neptune_api_key'},\n",
      " 'label': {'thresh_entry': 0.05, 'thresh_exit': 0.0, 'thresh_hold': 0.025},\n",
      " 'model': {'objective': 'binary', 'random_state': 123},\n",
      " 'neptune': {'model_key': 'LGBM',\n",
      "             'project': 'thashimoto/sandbox',\n",
      "             'project_key': 'SAN'},\n",
      " 'on_colab': False,\n",
      " 'train': {'num_iterations': 20, 'save_model': True, 'test_ratio': 0.1}}\n"
     ]
    }
   ],
   "source": [
    "config.pprint(pformat=\"dict\")"
   ]
  },
  {
   "cell_type": "code",
   "execution_count": 8,
   "id": "248fbd39-19db-4070-847d-642ec2c47018",
   "metadata": {},
   "outputs": [],
   "source": [
    "os.environ[\"GOOGLE_APPLICATION_CREDENTIALS\"] = \"../auto-trader-sa.json\"\n",
    "os.environ[\"NEPTUNE_PROJECT\"] = config.neptune.project"
   ]
  },
  {
   "cell_type": "code",
   "execution_count": 9,
   "id": "ebacae44-16ee-4ec5-9876-6df34be775a4",
   "metadata": {},
   "outputs": [],
   "source": [
    "secretmanager = common_utils.SecretManagerWrapper(config.gcp.project_id)\n",
    "neptune_api_token = secretmanager.fetch_secret(config.gcp.secret_id)\n",
    "os.environ[\"NEPTUNE_API_TOKEN\"] = neptune_api_token"
   ]
  },
  {
   "cell_type": "code",
   "execution_count": 16,
   "id": "372c1b4a-cb70-4365-8ca5-d2cff2e745de",
   "metadata": {},
   "outputs": [
    {
     "name": "stdout",
     "output_type": "stream",
     "text": [
      "https://app.neptune.ai/thashimoto/sandbox/e/SAN-7\n",
      "Remember to stop your run once you’ve finished logging your metadata (https://docs.neptune.ai/api-reference/run#.stop). It will be stopped automatically only when the notebook kernel/interactive console is terminated.\n"
     ]
    }
   ],
   "source": [
    "run = neptune.init_run(run=\"SAN-7\")"
   ]
  },
  {
   "cell_type": "code",
   "execution_count": 12,
   "id": "c6dd795b-eea3-46ce-afb5-cfed925f3d0c",
   "metadata": {},
   "outputs": [
    {
     "data": {
      "text/plain": [
       "{'data': {'first': {'month': 11, 'year': 2020},\n",
       "  'last': {'month': 12, 'year': 2020},\n",
       "  'symbol': 'usdjpy'},\n",
       " 'feature': {'freqs': \"['1min', '5min', '15min', '1h', '4h']\",\n",
       "  'lag_max': 10,\n",
       "  'sma': {'timing': 'close', 'window_size': 10},\n",
       "  'timings': \"['high', 'low', 'close']\"},\n",
       " 'gcp': {'bucket_name': 'preprocessed-thashimoto',\n",
       "  'project_id': 'auto-trader-359210',\n",
       "  'secret_id': 'neptune_api_key'},\n",
       " 'label': {'thresh_entry': 0.05, 'thresh_exit': 0.0, 'thresh_hold': 0.025},\n",
       " 'model': {'objective': 'binary', 'random_state': 123},\n",
       " 'neptune': {'model_key': 'LGBM',\n",
       "  'project': 'thashimoto/sandbox',\n",
       "  'project_key': 'SAN'},\n",
       " 'on_colab': False,\n",
       " 'train': {'num_iterations': 20, 'save_model': True, 'test_ratio': 0.1}}"
      ]
     },
     "execution_count": 12,
     "metadata": {},
     "output_type": "execute_result"
    }
   ],
   "source": [
    "run[\"config\"].fetch()"
   ]
  },
  {
   "cell_type": "code",
   "execution_count": 18,
   "id": "0a227ce0-97ec-4d1d-b7bf-fc7181c22c70",
   "metadata": {},
   "outputs": [
    {
     "data": {
      "text/plain": [
       "str"
      ]
     },
     "execution_count": 18,
     "metadata": {},
     "output_type": "execute_result"
    }
   ],
   "source": [
    "type(run[\"retrain/long_entry/importance\"].fetch())"
   ]
  },
  {
   "cell_type": "code",
   "execution_count": 19,
   "id": "28e0553e-7db0-4c9d-a5eb-f6159899fe9e",
   "metadata": {},
   "outputs": [
    {
     "name": "stdout",
     "output_type": "stream",
     "text": [
      "Shutting down background jobs, please wait a moment...\n",
      "Done!\n",
      "Waiting for the remaining 1 operations to synchronize with Neptune. Do not kill this process.\n",
      "All 1 operations synced, thanks for waiting!\n",
      "Explore the metadata in the Neptune app:\n",
      "https://app.neptune.ai/thashimoto/sandbox/e/SAN-7\n"
     ]
    }
   ],
   "source": [
    "run.stop()"
   ]
  },
  {
   "cell_type": "code",
   "execution_count": null,
   "id": "a8d2223f-b4f7-4010-aad6-875b617f41cf",
   "metadata": {},
   "outputs": [],
   "source": []
  },
  {
   "cell_type": "code",
   "execution_count": null,
   "id": "6badff2e-c037-46a3-9e26-c47b19f64c69",
   "metadata": {},
   "outputs": [],
   "source": []
  }
 ],
 "metadata": {
  "kernelspec": {
   "display_name": "Python 3 (ipykernel)",
   "language": "python",
   "name": "python3"
  },
  "language_info": {
   "codemirror_mode": {
    "name": "ipython",
    "version": 3
   },
   "file_extension": ".py",
   "mimetype": "text/x-python",
   "name": "python",
   "nbconvert_exporter": "python",
   "pygments_lexer": "ipython3",
   "version": "3.8.13"
  }
 },
 "nbformat": 4,
 "nbformat_minor": 5
}
