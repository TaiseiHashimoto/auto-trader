{
 "cells": [
  {
   "cell_type": "markdown",
   "id": "cc9d9369-400f-4c3e-8a6d-d6391536f2e2",
   "metadata": {},
   "source": [
    "[![Open In Colab](https://colab.research.google.com/assets/colab-badge.svg)](https://colab.research.google.com/github/TaiseiHashimoto/auto-trader/blob/master/colab_runner.ipynb)"
   ]
  },
  {
   "cell_type": "code",
   "execution_count": null,
   "id": "404a6dee-a5b2-4514-8cef-14fab730a6a8",
   "metadata": {},
   "outputs": [],
   "source": [
    "from google.colab import drive\n",
    "drive.mount('/content/drive')"
   ]
  },
  {
   "cell_type": "code",
   "execution_count": null,
   "id": "574fb57e-34dc-4e7f-ad42-0da50287858a",
   "metadata": {},
   "outputs": [],
   "source": [
    "!git clone https://github.com/TaiseiHashimoto/auto-trader.git"
   ]
  },
  {
   "cell_type": "code",
   "execution_count": null,
   "id": "6b36c5a1-a08d-48e6-b2f9-68b49fafb247",
   "metadata": {},
   "outputs": [],
   "source": [
    "# バージョンコンフリクトのためランタイムの再読み込みが必要かも\n",
    "!pip install -r ./auto-trader/requirements.txt"
   ]
  },
  {
   "cell_type": "code",
   "execution_count": null,
   "id": "029a7c69-3d5b-4477-a39e-752a93eaf909",
   "metadata": {},
   "outputs": [],
   "source": [
    "cd ./auto-trader"
   ]
  },
  {
   "cell_type": "code",
   "execution_count": null,
   "id": "4c78090c-c092-4760-99aa-f962f264aa7a",
   "metadata": {},
   "outputs": [],
   "source": [
    "!python train/train_model.py on_colab=True"
   ]
  }
 ],
 "metadata": {
  "kernelspec": {
   "display_name": "Python 3 (ipykernel)",
   "language": "python",
   "name": "python3"
  },
  "language_info": {
   "codemirror_mode": {
    "name": "ipython",
    "version": 3
   },
   "file_extension": ".py",
   "mimetype": "text/x-python",
   "name": "python",
   "nbconvert_exporter": "python",
   "pygments_lexer": "ipython3",
   "version": "3.8.13"
  }
 },
 "nbformat": 4,
 "nbformat_minor": 5
}
