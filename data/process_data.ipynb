{
 "cells": [
  {
   "cell_type": "markdown",
   "metadata": {},
   "source": [
    "# データ前処理"
   ]
  },
  {
   "cell_type": "code",
   "execution_count": 1,
   "metadata": {},
   "outputs": [],
   "source": [
    "%load_ext autoreload\n",
    "%autoreload 2"
   ]
  },
  {
   "cell_type": "code",
   "execution_count": 11,
   "metadata": {},
   "outputs": [],
   "source": [
    "import numpy as np\n",
    "import pandas as pd\n",
    "import datetime\n",
    "import os\n",
    "import glob\n",
    "import calendar"
   ]
  },
  {
   "cell_type": "code",
   "execution_count": 3,
   "metadata": {},
   "outputs": [],
   "source": [
    "import utils"
   ]
  },
  {
   "cell_type": "code",
   "execution_count": null,
   "metadata": {},
   "outputs": [],
   "source": []
  },
  {
   "cell_type": "code",
   "execution_count": 7,
   "metadata": {},
   "outputs": [],
   "source": [
    "IN_DIRECTORY = \"./raw\"\n",
    "OUT_DIRECTORY = \"./preprocessed\""
   ]
  },
  {
   "cell_type": "code",
   "execution_count": 5,
   "metadata": {},
   "outputs": [],
   "source": [
    "os.makedirs(OUT_DIRECTORY, exist_ok=True)"
   ]
  },
  {
   "cell_type": "code",
   "execution_count": 8,
   "metadata": {},
   "outputs": [],
   "source": [
    "symbols = [\"usdjpy\", \"eurusd\"]"
   ]
  },
  {
   "cell_type": "code",
   "execution_count": null,
   "metadata": {},
   "outputs": [],
   "source": []
  },
  {
   "cell_type": "markdown",
   "metadata": {},
   "source": [
    "## 既存の最新ファイルを削除"
   ]
  },
  {
   "cell_type": "markdown",
   "metadata": {},
   "source": [
    "最新ファイルは不完全なデータで作成された可能性が高いため、削除して作り直す。"
   ]
  },
  {
   "cell_type": "code",
   "execution_count": 33,
   "metadata": {},
   "outputs": [
    {
     "name": "stdout",
     "output_type": "stream",
     "text": [
      "Delete ./processed/usdjpy-2022-08.pkl\n",
      "Delete ./processed/eurusd-2022-08.pkl\n"
     ]
    }
   ],
   "source": [
    "for symbol in symbols:\n",
    "    data_file_paths = glob.glob(f\"{OUT_DIRECTORY}/{symbol}-*.pkl\")\n",
    "    if len(data_file_paths) > 0:\n",
    "        latest_file_path = max(data_file_paths)\n",
    "        print(f\"Delete {latest_file_path}\")\n",
    "        os.remove(latest_file_path)"
   ]
  },
  {
   "cell_type": "markdown",
   "metadata": {},
   "source": [
    "## データを整形して保存"
   ]
  },
  {
   "cell_type": "code",
   "execution_count": 34,
   "metadata": {},
   "outputs": [
    {
     "name": "stdout",
     "output_type": "stream",
     "text": [
      "(start_year, start_month) = (2022, 8)\n"
     ]
    }
   ],
   "source": [
    "start_year = 2019\n",
    "start_month = 1\n",
    "print(f\"(start_year, start_month) = ({end_year}, {end_month})\")\n",
    "# start_year = 2022\n",
    "# start_month = 2"
   ]
  },
  {
   "cell_type": "code",
   "execution_count": 35,
   "metadata": {},
   "outputs": [
    {
     "name": "stdout",
     "output_type": "stream",
     "text": [
      "(end_year, end_month) = (2022, 8)\n"
     ]
    }
   ],
   "source": [
    "now = datetime.datetime.now(tz=datetime.timezone.utc)\n",
    "end_year = now.year\n",
    "end_month = now.month\n",
    "print(f\"(end_year, end_month) = ({end_year}, {end_month})\")\n",
    "# end_year = 2022\n",
    "# end_month = 6"
   ]
  },
  {
   "cell_type": "code",
   "execution_count": 36,
   "metadata": {},
   "outputs": [],
   "source": [
    "def validate_data(df, symbol):\n",
    "    \"\"\"\n",
    "    データの妥当性を検証する\n",
    "    \"\"\"\n",
    "\n",
    "    FLAT_RATIO_TOLERANCE = 0.1\n",
    "    NO_MOVE_RATIO_TOLERANCE = 0.1\n",
    "    BID_HIGHER_RATIO_TOLERANCE = 0.0\n",
    "\n",
    "    # フラット期間が一定割合以下\n",
    "    flat_idxs = np.nonzero(np.all(df.iloc[1:].values == df.iloc[:-1].values, axis=1))[0]\n",
    "    flat_ratio = len(flat_idxs) / len(df)\n",
    "    assert flat_ratio <= FLAT_RATIO_TOLERANCE, f\"flat_ratio = {flat_ratio} > {FLAT_RATIO_TOLERANCE}\"\n",
    "\n",
    "    # 4値同一が一定割合以下\n",
    "    no_move_mask = (df[\"bid_high\"] == df[\"bid_low\"]) | (df[\"ask_high\"] == df[\"ask_low\"])\n",
    "    no_move_ratio = no_move_mask.mean()\n",
    "    assert no_move_ratio <= NO_MOVE_RATIO_TOLERANCE, f\"no_move_ratio = {no_move_ratio} > {NO_MOVE_RATIO_TOLERANCE}\"\n",
    "\n",
    "    # bid > ask が一定割合以下\n",
    "    bid_higher_mask = (\n",
    "        (df[\"bid_open\"] > df[\"ask_open\"]) |\n",
    "        (df[\"bid_high\"] > df[\"ask_high\"]) |\n",
    "        (df[\"bid_low\"] > df[\"ask_low\"]) |\n",
    "        (df[\"bid_close\"] > df[\"ask_close\"])\n",
    "    )\n",
    "    bid_higher_ratio = bid_higher_mask.mean()\n",
    "    assert bid_higher_ratio <= BID_HIGHER_RATIO_TOLERANCE, f\"bid_higer_ratio = {bid_higher_ratio} > {BID_HIGHER_RATIO_TOLERANCE}\"\n",
    "    \n",
    "    # low < open, close < high の順になっている\n",
    "    invalid_order_mask = (\n",
    "        (df[\"bid_open\"] < df[\"bid_low\"]) |\n",
    "        (df[\"bid_close\"] < df[\"bid_low\"]) |\n",
    "        (df[\"bid_open\"] > df[\"bid_high\"]) |\n",
    "        (df[\"bid_close\"] > df[\"bid_high\"]) |\n",
    "        (df[\"ask_open\"] < df[\"ask_low\"]) |\n",
    "        (df[\"ask_close\"] < df[\"ask_low\"]) |\n",
    "        (df[\"ask_open\"] > df[\"ask_high\"]) |\n",
    "        (df[\"ask_close\"] > df[\"ask_high\"])\n",
    "    )\n",
    "    assert invalid_order_mask.sum() == 0\n",
    "    \n",
    "    if symbol == \"usdjpy\":\n",
    "        extreme_value_mask = (df < 70) | (df > 150)\n",
    "        assert (extreme_value_mask.sum() == 0).all()\n",
    "    elif symbol == \"eurusd\":\n",
    "        extreme_value_mask = (df < 0.8) | (df > 1.6)\n",
    "        assert (extreme_value_mask.sum() == 0).all()"
   ]
  },
  {
   "cell_type": "code",
   "execution_count": 37,
   "metadata": {
    "scrolled": true,
    "tags": []
   },
   "outputs": [
    {
     "name": "stdout",
     "output_type": "stream",
     "text": [
      "usdjpy: 2022-08\n",
      "eurusd: 2022-08\n"
     ]
    }
   ],
   "source": [
    "for symbol in symbols:\n",
    "    year = start_year\n",
    "    month = start_month\n",
    "\n",
    "    while (year, month) <= (end_year, end_month):\n",
    "        year_month_str = f\"{year}-{month:02d}\"\n",
    "        file_path = f\"{OUT_DIRECTORY}/{symbol}-{year_month_str}.pkl\"\n",
    "\n",
    "        if not os.path.exists(file_path):\n",
    "            print(f\"{symbol}: {year_month_str}\")\n",
    "\n",
    "            # 元データファイルは UTC+0 基準で保存されているので, UTC+2/+3 に合わせるために前月のデータが2/3時間分だけ必要\n",
    "            prev_year, prev_month = utils.calc_year_month_offset(year, month, month_offset=-1)\n",
    "            df_source = pd.concat([\n",
    "                utils.read_raw_data(\n",
    "                    symbol, prev_year, prev_month,\n",
    "                    convert_timezone=True, data_directory=IN_DIRECTORY\n",
    "                ),\n",
    "                utils.read_raw_data(\n",
    "                    symbol, year, month,\n",
    "                    convert_timezone=True, data_directory=IN_DIRECTORY\n",
    "                ),\n",
    "            ]).astype(np.float32)\n",
    "\n",
    "            # 当月データを抽出\n",
    "            df = df_source.loc[year_month_str]\n",
    "            df = utils.remove_flat_data(df)\n",
    "\n",
    "            validate_data(df, symbol)\n",
    "\n",
    "            df.to_pickle(file_path)\n",
    "\n",
    "        year, month = utils.calc_year_month_offset(year, month, month_offset=1)"
   ]
  },
  {
   "cell_type": "markdown",
   "metadata": {},
   "source": [
    "## データを GCS に送信"
   ]
  },
  {
   "cell_type": "code",
   "execution_count": 52,
   "metadata": {},
   "outputs": [],
   "source": [
    "from google.cloud import storage\n",
    "import yaml\n",
    "from dotmap import DotMap"
   ]
  },
  {
   "cell_type": "code",
   "execution_count": 57,
   "metadata": {},
   "outputs": [],
   "source": [
    "import sys\n",
    "sys.path.append(\"../common\")\n",
    "import common_utils"
   ]
  },
  {
   "cell_type": "code",
   "execution_count": 47,
   "metadata": {},
   "outputs": [],
   "source": [
    "CONFIG_PATH = \"../feature/config.yaml\"\n",
    "with open(CONFIG_PATH, \"r\") as f:\n",
    "    config = DotMap(yaml.safe_load(f), _dynamic=False)"
   ]
  },
  {
   "cell_type": "code",
   "execution_count": 49,
   "metadata": {},
   "outputs": [
    {
     "name": "stdout",
     "output_type": "stream",
     "text": [
      "{'data': {'first': {'month': 10, 'year': 2020},\n",
      "          'last': {'month': 12, 'year': 2020},\n",
      "          'symbol': 'usdjpy'},\n",
      " 'feature': {'freqs': ['1min', '5min', '15min', '1h', '4h'],\n",
      "             'lag_max': 10,\n",
      "             'sma': {'timing': 'close', 'window_size': 10},\n",
      "             'timings': ['high', 'low', 'close']},\n",
      " 'gcp': {'bucket_name': 'preprocessed-thashimoto',\n",
      "         'project_id': 'auto-trader-359210',\n",
      "         'secret_id': 'neptune_api_key'},\n",
      " 'label': {'thresh_entry': 0.05, 'thresh_exit': 0.0, 'thresh_hold': 0.025},\n",
      " 'model': {'objective': 'binary', 'random_state': 123},\n",
      " 'neptune': {'model_key': 'LGBM',\n",
      "             'project': 'thashimoto/sandbox',\n",
      "             'project_key': 'SAN'},\n",
      " 'train': {'num_iterations': 100, 'test_ratio': 0.1}}\n"
     ]
    }
   ],
   "source": [
    "config.pprint()"
   ]
  },
  {
   "cell_type": "code",
   "execution_count": 42,
   "metadata": {},
   "outputs": [],
   "source": [
    "os.environ[\"GOOGLE_APPLICATION_CREDENTIALS\"] = \"../auto-trader-sa.json\""
   ]
  },
  {
   "cell_type": "code",
   "execution_count": null,
   "metadata": {},
   "outputs": [],
   "source": []
  },
  {
   "cell_type": "code",
   "execution_count": 60,
   "metadata": {},
   "outputs": [],
   "source": [
    "gcs = common_utils.GCSWrapper(config.gcp.project_id, config.gcp.bucket_name)"
   ]
  },
  {
   "cell_type": "code",
   "execution_count": 90,
   "metadata": {},
   "outputs": [],
   "source": [
    "file_names = gcs.list_file_names()"
   ]
  },
  {
   "cell_type": "code",
   "execution_count": 94,
   "metadata": {
    "scrolled": true,
    "tags": []
   },
   "outputs": [
    {
     "name": "stdout",
     "output_type": "stream",
     "text": [
      "Ignore existing usdjpy-2022-08.pkl\n",
      "Upload usdjpy-2022-08.pkl\n",
      "Ignore existing eurusd-2022-08.pkl\n",
      "Upload eurusd-2022-08.pkl\n"
     ]
    }
   ],
   "source": [
    "for symbol in symbols:\n",
    "    file_names_symbol = sorted([name for name in file_names if name.startswith(symbol)])\n",
    "    if len(file_names_symbol) == 0:\n",
    "        existing_file_names = []\n",
    "    else:\n",
    "        # 最新ファイルは不完全なデータで作成された可能性が高いため、アップロードし直す。\n",
    "        existing_file_names = file_names_symbol[:-1]\n",
    "        print(f\"Ignore existing {file_names_symbol[-1]}\")\n",
    "\n",
    "    preprocessed_file_names = sorted(glob.glob(f\"{OUT_DIRECTORY}/{symbol}-*.pkl\"))\n",
    "\n",
    "    for src_path in preprocessed_file_names:\n",
    "        src_base = os.path.basename(src_path)\n",
    "        if src_base not in existing_file_names:\n",
    "            print(f\"Upload {src_base}\")\n",
    "            gcs.upload_file(local_path=src_path, gcs_path=src_base)"
   ]
  },
  {
   "cell_type": "code",
   "execution_count": null,
   "metadata": {},
   "outputs": [],
   "source": []
  },
  {
   "cell_type": "code",
   "execution_count": null,
   "metadata": {},
   "outputs": [],
   "source": []
  }
 ],
 "metadata": {
  "kernelspec": {
   "display_name": "Python 3 (ipykernel)",
   "language": "python",
   "name": "python3"
  },
  "language_info": {
   "codemirror_mode": {
    "name": "ipython",
    "version": 3
   },
   "file_extension": ".py",
   "mimetype": "text/x-python",
   "name": "python",
   "nbconvert_exporter": "python",
   "pygments_lexer": "ipython3",
   "version": "3.8.13"
  },
  "vscode": {
   "interpreter": {
    "hash": "43c17af71f8fbab7b87bc42575abe72644311eafc71dfd9ccfeaf039933175f1"
   }
  }
 },
 "nbformat": 4,
 "nbformat_minor": 4
}
